{
 "cells": [
  {
   "cell_type": "markdown",
   "id": "6a6462cc-e48c-4636-8e96-7efa9e9f9730",
   "metadata": {
    "jp-MarkdownHeadingCollapsed": true
   },
   "source": [
    "# Scrapping Text Data from NITT Website"
   ]
  },
  {
   "cell_type": "code",
   "execution_count": null,
   "id": "0a37ab40-e475-402c-aad3-7dfd37f1fd4d",
   "metadata": {},
   "outputs": [],
   "source": [
    "import requests\n",
    "from bs4 import BeautifulSoup\n",
    "from urllib.parse import urljoin\n",
    "from requests.exceptions import RequestException\n",
    "\n",
    "import warnings\n",
    "warnings.filterwarnings('ignore')"
   ]
  },
  {
   "cell_type": "code",
   "execution_count": null,
   "id": "b3fd6d24-4441-4e85-8e3c-64cf4e1b19ae",
   "metadata": {},
   "outputs": [],
   "source": [
    "import pandas as pd\n",
    "df1=pd.read_csv('Scraped_Data1.csv')\n",
    "df2=pd.read_csv('Scraped_Data2.csv')\n",
    "df=pd.concat([df1, df2], axis=0)\n",
    "df.shape"
   ]
  },
  {
   "cell_type": "code",
   "execution_count": null,
   "id": "af722210-b68b-4178-97c6-e7d6a3197a0b",
   "metadata": {},
   "outputs": [],
   "source": [
    "df_unique = df.drop_duplicates(subset='url', keep='first')\n",
    "df_unique.shape"
   ]
  },
  {
   "cell_type": "code",
   "execution_count": null,
   "id": "89dcb377-80ae-46a6-8af5-34f2aa5d8bdd",
   "metadata": {},
   "outputs": [],
   "source": [
    "with open(\"my_list.txt\", \"r\", encoding=\"utf-8\") as file:\n",
    "    my_list = [line.strip() for line in file]\n",
    "\n",
    "# Print the list\n",
    "len(my_list)"
   ]
  },
  {
   "cell_type": "code",
   "execution_count": null,
   "id": "4c85582d-725e-4da6-bdf3-107524f87da9",
   "metadata": {},
   "outputs": [],
   "source": [
    "links = ['https://www.nitt.edu/']\n",
    "visited = set()\n",
    "text = dict()\n",
    "\n",
    "links=my_list\n",
    "visited = set(df['url'].values)\n",
    "text = dict()\n",
    "while len(links)>0:\n",
    "    link = links.pop(0)\n",
    "    \n",
    "    if link in visited:\n",
    "        continue\n",
    "    \n",
    "    visited.add(link)\n",
    "\n",
    "    # Fetch the page for the url\n",
    "    try:\n",
    "        response = requests.get(link, verify=False, timeout=5)\n",
    "        response.raise_for_status()\n",
    "        print(f'{link} {len(text)} {len(links)}')\n",
    "        soup = BeautifulSoup(response.text, 'html.parser')\n",
    "        for url in soup.find_all('a', href=True):\n",
    "            next_url=urljoin(link, url['href'])\n",
    "            \n",
    "            if next_url in visited:\n",
    "                continue\n",
    "            if 'www.nitt.edu' not in next_url:\n",
    "                visited.add(next_url)\n",
    "                continue\n",
    "                \n",
    "            if '+login' in next_url or '+search' in next_url or '+view' in next_url:\n",
    "                visited.add(next_url)\n",
    "                continue\n",
    "            \n",
    "            format_avoid=['pdf', 'jpg', 'peg', 'doc', 'ocx', 'png',\\\n",
    "                          '.dz', 'exe', 'php', 'zip', 'exe', 'rar']\n",
    "            if next_url[-3:].lower() in format_avoid:\n",
    "                visited.add(next_url)\n",
    "                continue\n",
    "            \n",
    "            if next_url not in links and next_url not in visited:\n",
    "                links.append(next_url)    \n",
    "        \n",
    "        side_div = soup.find('div', id='side')\n",
    "    \n",
    "        # Extract text content\n",
    "        if side_div:\n",
    "            curr_text=side_div.get_text()\n",
    "            if len(curr_text)>50:\n",
    "                text[link]=curr_text\n",
    "    except Exception as e:\n",
    "        pass"
   ]
  },
  {
   "cell_type": "code",
   "execution_count": null,
   "id": "475adaa1-05a5-4eab-aab6-0df874b6a6f5",
   "metadata": {},
   "outputs": [],
   "source": [
    "temp = [link for link in links if \"www.nitt.edu\" in link]\n",
    "len(temp)\n"
   ]
  },
  {
   "cell_type": "code",
   "execution_count": null,
   "id": "a3921240-6630-474a-a80a-5f6215ff4108",
   "metadata": {},
   "outputs": [],
   "source": [
    "links=temp"
   ]
  },
  {
   "cell_type": "code",
   "execution_count": null,
   "id": "090c717a-a553-42fe-a312-52d4ce95f4a5",
   "metadata": {},
   "outputs": [],
   "source": [
    "len(links)"
   ]
  },
  {
   "cell_type": "code",
   "execution_count": null,
   "id": "8031e83d-aaff-46fa-9001-71d94526d1b2",
   "metadata": {},
   "outputs": [],
   "source": [
    "with open(\"my_list.txt\", \"w\", encoding=\"utf-8\") as file:\n",
    "    for item in links:\n",
    "        file.write(f\"{item}\\n\")"
   ]
  },
  {
   "cell_type": "code",
   "execution_count": null,
   "id": "963a5caa-b002-4b81-b19c-fada2bd074e9",
   "metadata": {},
   "outputs": [],
   "source": [
    "import pandas as pd\n",
    "data = {\n",
    "    \"url\": text.keys(),\n",
    "    \"text\": text.values()\n",
    "}\n",
    "df = pd.DataFrame(data=data,\n",
    "                  columns=[\"url\", \"text\"])\n",
    "df.shape"
   ]
  },
  {
   "cell_type": "code",
   "execution_count": null,
   "id": "6a1f9ff4-b3a4-40ec-a06f-d548ea65d157",
   "metadata": {},
   "outputs": [],
   "source": [
    "import re\n",
    "\n",
    "def split_camel_case(text):\n",
    "    text = re.sub(r'[^\\x20-\\x7E]', '', text)\n",
    "    text = re.sub(r'(?<=[a-z])(?=[A-Z])', ' ', text)\n",
    "    text = ' '.join(text.split())\n",
    "    return text\n",
    "\n",
    "df['text'] = df['text'].map(split_camel_case)\n",
    "df.head()"
   ]
  },
  {
   "cell_type": "code",
   "execution_count": null,
   "id": "e6a6669a-18a3-4b15-b5c4-a504a1d59556",
   "metadata": {},
   "outputs": [],
   "source": [
    "df['text'] = df['text'].str.replace(\"\\n\", '')\n",
    "df.head()"
   ]
  },
  {
   "cell_type": "code",
   "execution_count": null,
   "id": "ec4f7078-831b-4595-b094-6b8e9c03d03c",
   "metadata": {},
   "outputs": [],
   "source": [
    "df['length']=df['text'].str.len()\n",
    "df.head()"
   ]
  },
  {
   "cell_type": "code",
   "execution_count": null,
   "id": "49a3eca9-d10b-4e75-b4ad-e70f5f7221e9",
   "metadata": {},
   "outputs": [],
   "source": [
    "df.shape"
   ]
  },
  {
   "cell_type": "code",
   "execution_count": null,
   "id": "a6e7dc59-3c1f-4a7a-a019-e0d7a50bc2bf",
   "metadata": {},
   "outputs": [],
   "source": [
    "df.to_csv('Scraped_Data.csv', index=False)"
   ]
  },
  {
   "cell_type": "markdown",
   "id": "1d0a689d-d3cf-4eec-94f2-012bb4c2a771",
   "metadata": {
    "jp-MarkdownHeadingCollapsed": true
   },
   "source": [
    "# Scrapping PDF Data from NITT Website"
   ]
  },
  {
   "cell_type": "code",
   "execution_count": 1,
   "id": "5dbddf0c-8f3a-4810-a4a3-07210d427dc7",
   "metadata": {},
   "outputs": [],
   "source": [
    "import requests\n",
    "from bs4 import BeautifulSoup\n",
    "from urllib.parse import urljoin\n",
    "from requests.exceptions import RequestException\n",
    "\n",
    "import fitz  # PyMuPDF\n",
    "import os\n",
    "import warnings\n",
    "warnings.filterwarnings('ignore')"
   ]
  },
  {
   "cell_type": "code",
   "execution_count": 10,
   "id": "5cf055ce-60be-4bea-a5f6-42fe23f00267",
   "metadata": {},
   "outputs": [],
   "source": [
    "def extract_text_from_pdf(pdf_url):\n",
    "    try:\n",
    "        # Attempt to download the PDF\n",
    "        response = requests.get(pdf_url, timeout=10)\n",
    "        response.raise_for_status()  # Check if the request was successful\n",
    "    except requests.exceptions.RequestException as e:\n",
    "        return f\"Failed to download the PDF: {e}\"\n",
    "    \n",
    "    file_path = \"temp.pdf\"\n",
    "    \n",
    "    # Save PDF locally for extraction\n",
    "    try:\n",
    "        with open(file_path, \"wb\") as f:\n",
    "            f.write(response.content)\n",
    "    except IOError as e:\n",
    "        return f\"Failed to save PDF locally: {e}\"\n",
    "    \n",
    "    text = \"\"\n",
    "    \n",
    "    # Attempt to open and read the PDF\n",
    "    try:\n",
    "        with fitz.open(file_path) as pdf:\n",
    "            for page_num in range(pdf.page_count):\n",
    "                page = pdf[page_num]\n",
    "                text += page.get_text()\n",
    "    except (fitz.FileDataError, fitz.DocumentError) as e:\n",
    "        return f\"Failed to open or read the PDF: {e}\"\n",
    "    finally:\n",
    "        # Clean up the temporary file\n",
    "        if os.path.exists(file_path):\n",
    "            os.remove(file_path)\n",
    "    \n",
    "    return text\n"
   ]
  },
  {
   "cell_type": "code",
   "execution_count": 11,
   "id": "b152e933-f2b1-4042-bd2c-810a48b29a22",
   "metadata": {},
   "outputs": [
    {
     "name": "stdout",
     "output_type": "stream",
     "text": [
      "Processing PDF: https://www.nitt.edu/home/GARC-Website-Mitacs-2024.pdf -- Total Scraped: 0\n",
      "Processing PDF: https://www.nitt.edu/home/rc/ipr/IPR_NIPAM_2022_Certificate.pdf -- Total Scraped: 1\n",
      "Processing PDF: https://www.nitt.edu/home/students/events/covid19/MOOCs.pdf -- Total Scraped: 2\n",
      "Processing PDF: https://www.nitt.edu/home/academics/pmrf/PMRF-2021.pdf -- Total Scraped: 3\n",
      "Processing PDF: https://www.nitt.edu/home/other/jobs/MME_PA_TA_NOV_2024.pdf -- Total Scraped: 4\n",
      "Processing PDF: https://www.nitt.edu/home/other/jobs/Shortlisted_EngrTrainee_NOV2024.pdf -- Total Scraped: 5\n",
      "Processing PDF: https://www.nitt.edu/home/other/jobs/NotShortlisted_EngrTrainee_NOV2024.pdf -- Total Scraped: 6\n",
      "Processing PDF: https://www.nitt.edu/home/Holidays-2025.pdf -- Total Scraped: 7\n",
      "Processing PDF: https://www.nitt.edu/home/id/DAA_AWARDEES_2024.pdf -- Total Scraped: 8\n",
      "Processing PDF: https://www.nitt.edu/home/other/jobs/CA_JRF_OCT_2024.pdf -- Total Scraped: 9\n",
      "Processing PDF: https://www.nitt.edu/home/other/jobs/CHY_JRF_OCT_2024.pdf -- Total Scraped: 10\n",
      "Processing PDF: https://www.nitt.edu/home/students/facilitiesnservices/hostelsnmess/Hostel_Fees_ODD_SEM_2024-25_ITEP_BSc_BEd.pdf -- Total Scraped: 11\n",
      "Processing PDF: https://www.nitt.edu/home/rc/cedi/CEDI_NAVIYA_Pre_Incubation_Program_2024.pdf -- Total Scraped: 12\n",
      "Processing PDF: https://www.nitt.edu/home/rc/cedi/CEDI_Startup_Gyan_Interactive_Session_Sep2024.pdf -- Total Scraped: 13\n",
      "Processing PDF: https://www.nitt.edu/home/rc/cedi/CEDI_Call_for_NITT_Faculty_Sep2024.pdf -- Total Scraped: 14\n",
      "Processing PDF: https://www.nitt.edu/home/id/RS_Proposal_Guidelines_Sep2024.pdf -- Total Scraped: 15\n",
      "Processing PDF: https://www.nitt.edu/home/students/facilitiesnservices/hostelsnmess/RULES_REGULATIONS_HOSTEL_RESIDENTS_2024.pdf -- Total Scraped: 16\n",
      "Processing PDF: https://www.nitt.edu/home/students/facilitiesnservices/hostelsnmess/Hostel_Fees_UG_FY_ODD_SEM_2024-25.pdf -- Total Scraped: 17\n",
      "Processing PDF: https://www.nitt.edu/home/students/facilitiesnservices/hostelsnmess/Hostel_Fees_PG_FY_ODD_SEM_2024-25.pdf -- Total Scraped: 18\n",
      "Processing PDF: https://www.nitt.edu/home/students/facilitiesnservices/hostelsnmess/Hostel_Fees_MS_PhD_FY_ODD_SEM_2024-25.pdf -- Total Scraped: 19\n",
      "Processing PDF: https://www.nitt.edu/home/students/facilitiesnservices/hostelsnmess/Hostel_Fees_ODD_Sem_2024-24.pdf -- Total Scraped: 20\n",
      "Processing PDF: https://www.nitt.edu/home/students/facilitiesnservices/hostelsnmess/Hostel_Fees_ODD_Sem_MBA_FY_2024_25-v2.pdf -- Total Scraped: 21\n",
      "Processing PDF: https://www.nitt.edu/home/other/jobs/GroupBC-result-2023.pdf -- Total Scraped: 22\n",
      "Processing PDF: https://www.nitt.edu/home/Holidays-2024.pdf -- Total Scraped: 23\n",
      "Processing PDF: https://www.nitt.edu/home/other/jobs/Compassionate-Ground-Appointment-2023.pdf -- Total Scraped: 24\n",
      "Processing PDF: https://www.nitt.edu/home/students/antiragging/AntiRagging-Commitee-2023-24.pdf -- Total Scraped: 25\n",
      "Processing PDF: https://www.nitt.edu/home/icsr/teqip3/TEQIP-III-Equity-Action-Plan.pdf -- Total Scraped: 26\n",
      "Processing PDF: https://www.nitt.edu/home/NITT-IP-Policy.pdf -- Total Scraped: 27\n",
      "Processing PDF: https://www.nitt.edu/home/NITT-GST.pdf -- Total Scraped: 28\n",
      "Processing PDF: https://www.nitt.edu/home/MIS-Course-Registration-Procedure.pdf -- Total Scraped: 29\n",
      "Processing PDF: https://www.nitt.edu/home/righttoinfoact/employees-list-Nov2024.pdf -- Total Scraped: 30\n",
      "Processing PDF: https://www.nitt.edu/home/students/facilitiesnservices/ccs/Internal-Telephone-Directory-June-2024.pdf -- Total Scraped: 31\n",
      "Processing PDF: https://www.nitt.edu/home/icsr/funding_agencies.pdf -- Total Scraped: 32\n",
      "Processing PDF: https://www.nitt.edu/travel_support.pdf -- Total Scraped: 33\n",
      "Processing PDF: https://www.nitt.edu/home/NEP-2020-Conclave2024.pdf -- Total Scraped: 34\n",
      "Processing PDF: https://www.nitt.edu/home/Prod-ANRF-SERB.pdf -- Total Scraped: 35\n",
      "Processing PDF: https://www.nitt.edu/home/GIAN_Course_Green_Ammonia-v2.pdf -- Total Scraped: 36\n",
      "Processing PDF: https://www.nitt.edu/home/SEC2024.pdf -- Total Scraped: 37\n",
      "Processing PDF: https://www.nitt.edu/home/students/facilitiesnservices/library/NITTCentralLibraryInformationBooklet-2023.pdf -- Total Scraped: 38\n",
      "Processing PDF: https://www.nitt.edu/home/students/facilitiesnservices/library/CAS24V1.pdf -- Total Scraped: 39\n",
      "Processing PDF: https://www.nitt.edu/home/students/facilitiesnservices/library/CAS24V2.pdf -- Total Scraped: 40\n",
      "Processing PDF: https://www.nitt.edu/home/students/facilitiesnservices/library/CAS24V3.pdf -- Total Scraped: 41\n",
      "Processing PDF: https://www.nitt.edu/home/students/facilitiesnservices/library/CAS24V4.pdf -- Total Scraped: 42\n",
      "Processing PDF: https://www.nitt.edu/home/students/facilitiesnservices/ComputerSupportGroup/continuingeducation/Workshops-CSG-r.pdf -- Total Scraped: 43\n",
      "Processing PDF: https://www.nitt.edu/about/NIT-diamond-jubilee-logo.pdf -- Total Scraped: 44\n",
      "Processing PDF: https://www.nitt.edu/home/righttoinfoact/Organization-Structure-2023.pdf -- Total Scraped: 45\n",
      "Processing PDF: https://www.nitt.edu/home/academics/departments/ca/programmes/M.Tech.%20DA%20Syllabus1.pdf -- Total Scraped: 46\n",
      "Processing PDF: https://www.nitt.edu/academics/departments/EEE_Brochure2024.pdf -- Total Scraped: 47\n"
     ]
    },
    {
     "ename": "FileDataError",
     "evalue": "Failed to open file 'temp.pdf'.",
     "output_type": "error",
     "traceback": [
      "\u001b[1;31m---------------------------------------------------------------------------\u001b[0m",
      "\u001b[1;31mFzErrorFormat\u001b[0m                             Traceback (most recent call last)",
      "\u001b[1;32mC:\\Python312\\Lib\\site-packages\\pymupdf\\__init__.py\u001b[0m in \u001b[0;36m?\u001b[1;34m(self, filename, stream, filetype, rect, width, height, fontsize)\u001b[0m\n\u001b[0;32m   3068\u001b[0m                     \u001b[0mself\u001b[0m\u001b[1;33m.\u001b[0m\u001b[0mpage_count2\u001b[0m \u001b[1;33m=\u001b[0m \u001b[0mextra\u001b[0m\u001b[1;33m.\u001b[0m\u001b[0mpage_count_fz\u001b[0m\u001b[1;33m\u001b[0m\u001b[1;33m\u001b[0m\u001b[0m\n\u001b[0;32m   3069\u001b[0m         \u001b[1;32mfinally\u001b[0m\u001b[1;33m:\u001b[0m\u001b[1;33m\u001b[0m\u001b[1;33m\u001b[0m\u001b[0m\n\u001b[1;32m-> 3070\u001b[1;33m             \u001b[0mJM_mupdf_show_errors\u001b[0m \u001b[1;33m=\u001b[0m \u001b[0mJM_mupdf_show_errors_old\u001b[0m\u001b[1;33m\u001b[0m\u001b[1;33m\u001b[0m\u001b[0m\n\u001b[0m",
      "\u001b[1;32mC:\\Python312\\Lib\\site-packages\\pymupdf\\mupdf.py\u001b[0m in \u001b[0;36m?\u001b[1;34m(filename)\u001b[0m\n\u001b[0;32m  45160\u001b[0m         \u001b[0mfilename\u001b[0m\u001b[1;33m:\u001b[0m \u001b[0ma\u001b[0m \u001b[0mpath\u001b[0m \u001b[0mto\u001b[0m \u001b[0ma\u001b[0m \u001b[0mfile\u001b[0m \u001b[1;32mas\u001b[0m \u001b[0mit\u001b[0m \u001b[0mwould\u001b[0m \u001b[0mbe\u001b[0m \u001b[0mgiven\u001b[0m \u001b[0mto\u001b[0m \u001b[0mopen\u001b[0m\u001b[1;33m(\u001b[0m\u001b[1;36m2\u001b[0m\u001b[1;33m)\u001b[0m\u001b[1;33m.\u001b[0m\u001b[1;33m\u001b[0m\u001b[1;33m\u001b[0m\u001b[0m\n\u001b[0;32m  45161\u001b[0m     \"\"\"\n\u001b[1;32m> 45162\u001b[1;33m     \u001b[1;32mreturn\u001b[0m \u001b[0m_mupdf\u001b[0m\u001b[1;33m.\u001b[0m\u001b[0mfz_open_document\u001b[0m\u001b[1;33m(\u001b[0m\u001b[0mfilename\u001b[0m\u001b[1;33m)\u001b[0m\u001b[1;33m\u001b[0m\u001b[1;33m\u001b[0m\u001b[0m\n\u001b[0m",
      "\u001b[1;31mFzErrorFormat\u001b[0m: code=7: no objects found",
      "\nThe above exception was the direct cause of the following exception:\n",
      "\u001b[1;31mFileDataError\u001b[0m                             Traceback (most recent call last)",
      "\u001b[1;32m~\\AppData\\Local\\Temp\\ipykernel_17108\\1367900114.py\u001b[0m in \u001b[0;36m?\u001b[1;34m()\u001b[0m\n\u001b[0;32m      9\u001b[0m \u001b[1;33m\u001b[0m\u001b[0m\n\u001b[0;32m     10\u001b[0m     \u001b[0mvisited\u001b[0m\u001b[1;33m.\u001b[0m\u001b[0madd\u001b[0m\u001b[1;33m(\u001b[0m\u001b[0mlink\u001b[0m\u001b[1;33m)\u001b[0m\u001b[1;33m\u001b[0m\u001b[1;33m\u001b[0m\u001b[0m\n\u001b[0;32m     11\u001b[0m     \u001b[1;32mif\u001b[0m \u001b[0mlink\u001b[0m\u001b[1;33m.\u001b[0m\u001b[0mendswith\u001b[0m\u001b[1;33m(\u001b[0m\u001b[1;34m\".pdf\"\u001b[0m\u001b[1;33m)\u001b[0m\u001b[1;33m:\u001b[0m\u001b[1;33m\u001b[0m\u001b[1;33m\u001b[0m\u001b[0m\n\u001b[0;32m     12\u001b[0m         \u001b[0mprint\u001b[0m\u001b[1;33m(\u001b[0m\u001b[1;33mf\"\u001b[0m\u001b[1;33mProcessing PDF: \u001b[0m\u001b[1;33m{\u001b[0m\u001b[0mlink\u001b[0m\u001b[1;33m}\u001b[0m\u001b[1;33m -- Total Scraped: \u001b[0m\u001b[1;33m{\u001b[0m\u001b[0mlen\u001b[0m\u001b[1;33m(\u001b[0m\u001b[0mdata\u001b[0m\u001b[1;33m)\u001b[0m\u001b[1;33m}\u001b[0m\u001b[1;33m\"\u001b[0m\u001b[1;33m)\u001b[0m\u001b[1;33m\u001b[0m\u001b[1;33m\u001b[0m\u001b[0m\n\u001b[1;32m---> 13\u001b[1;33m         \u001b[0mpdf_text\u001b[0m \u001b[1;33m=\u001b[0m \u001b[0mextract_text_from_pdf\u001b[0m\u001b[1;33m(\u001b[0m\u001b[0mlink\u001b[0m\u001b[1;33m)\u001b[0m\u001b[1;33m\u001b[0m\u001b[1;33m\u001b[0m\u001b[0m\n\u001b[0m\u001b[0;32m     14\u001b[0m         \u001b[0mdata\u001b[0m\u001b[1;33m[\u001b[0m\u001b[0mlink\u001b[0m\u001b[1;33m]\u001b[0m \u001b[1;33m=\u001b[0m \u001b[0mpdf_text\u001b[0m\u001b[1;33m\u001b[0m\u001b[1;33m\u001b[0m\u001b[0m\n\u001b[0;32m     15\u001b[0m         \u001b[1;32mcontinue\u001b[0m\u001b[1;33m\u001b[0m\u001b[1;33m\u001b[0m\u001b[0m\n\u001b[0;32m     16\u001b[0m \u001b[1;33m\u001b[0m\u001b[0m\n",
      "\u001b[1;32m~\\AppData\\Local\\Temp\\ipykernel_17108\\3476175481.py\u001b[0m in \u001b[0;36m?\u001b[1;34m(pdf_url)\u001b[0m\n\u001b[0;32m      7\u001b[0m         \u001b[0mf\u001b[0m\u001b[1;33m.\u001b[0m\u001b[0mwrite\u001b[0m\u001b[1;33m(\u001b[0m\u001b[0mresponse\u001b[0m\u001b[1;33m.\u001b[0m\u001b[0mcontent\u001b[0m\u001b[1;33m)\u001b[0m\u001b[1;33m\u001b[0m\u001b[1;33m\u001b[0m\u001b[0m\n\u001b[0;32m      8\u001b[0m \u001b[1;33m\u001b[0m\u001b[0m\n\u001b[0;32m      9\u001b[0m     \u001b[1;31m# Extract text\u001b[0m\u001b[1;33m\u001b[0m\u001b[1;33m\u001b[0m\u001b[0m\n\u001b[0;32m     10\u001b[0m     \u001b[0mtext\u001b[0m \u001b[1;33m=\u001b[0m \u001b[1;34m\"\"\u001b[0m\u001b[1;33m\u001b[0m\u001b[1;33m\u001b[0m\u001b[0m\n\u001b[1;32m---> 11\u001b[1;33m     \u001b[1;32mwith\u001b[0m \u001b[0mfitz\u001b[0m\u001b[1;33m.\u001b[0m\u001b[0mopen\u001b[0m\u001b[1;33m(\u001b[0m\u001b[0mfile_path\u001b[0m\u001b[1;33m)\u001b[0m \u001b[1;32mas\u001b[0m \u001b[0mpdf\u001b[0m\u001b[1;33m:\u001b[0m\u001b[1;33m\u001b[0m\u001b[1;33m\u001b[0m\u001b[0m\n\u001b[0m\u001b[0;32m     12\u001b[0m         \u001b[1;32mfor\u001b[0m \u001b[0mpage_num\u001b[0m \u001b[1;32min\u001b[0m \u001b[0mrange\u001b[0m\u001b[1;33m(\u001b[0m\u001b[0mpdf\u001b[0m\u001b[1;33m.\u001b[0m\u001b[0mpage_count\u001b[0m\u001b[1;33m)\u001b[0m\u001b[1;33m:\u001b[0m\u001b[1;33m\u001b[0m\u001b[1;33m\u001b[0m\u001b[0m\n\u001b[0;32m     13\u001b[0m             \u001b[0mpage\u001b[0m \u001b[1;33m=\u001b[0m \u001b[0mpdf\u001b[0m\u001b[1;33m[\u001b[0m\u001b[0mpage_num\u001b[0m\u001b[1;33m]\u001b[0m\u001b[1;33m\u001b[0m\u001b[1;33m\u001b[0m\u001b[0m\n\u001b[0;32m     14\u001b[0m             \u001b[0mtext\u001b[0m \u001b[1;33m+=\u001b[0m \u001b[0mpage\u001b[0m\u001b[1;33m.\u001b[0m\u001b[0mget_text\u001b[0m\u001b[1;33m(\u001b[0m\u001b[1;33m)\u001b[0m\u001b[1;33m\u001b[0m\u001b[1;33m\u001b[0m\u001b[0m\n",
      "\u001b[1;32mC:\\Python312\\Lib\\site-packages\\pymupdf\\__init__.py\u001b[0m in \u001b[0;36m?\u001b[1;34m(self, filename, stream, filetype, rect, width, height, fontsize)\u001b[0m\n\u001b[0;32m   3066\u001b[0m                     \u001b[0mself\u001b[0m\u001b[1;33m.\u001b[0m\u001b[0mpage_count2\u001b[0m \u001b[1;33m=\u001b[0m \u001b[0mextra\u001b[0m\u001b[1;33m.\u001b[0m\u001b[0mpage_count_pdf\u001b[0m\u001b[1;33m\u001b[0m\u001b[1;33m\u001b[0m\u001b[0m\n\u001b[0;32m   3067\u001b[0m                 \u001b[1;32melse\u001b[0m\u001b[1;33m:\u001b[0m\u001b[1;33m\u001b[0m\u001b[1;33m\u001b[0m\u001b[0m\n\u001b[0;32m   3068\u001b[0m                     \u001b[0mself\u001b[0m\u001b[1;33m.\u001b[0m\u001b[0mpage_count2\u001b[0m \u001b[1;33m=\u001b[0m \u001b[0mextra\u001b[0m\u001b[1;33m.\u001b[0m\u001b[0mpage_count_fz\u001b[0m\u001b[1;33m\u001b[0m\u001b[1;33m\u001b[0m\u001b[0m\n\u001b[0;32m   3069\u001b[0m         \u001b[1;32mfinally\u001b[0m\u001b[1;33m:\u001b[0m\u001b[1;33m\u001b[0m\u001b[1;33m\u001b[0m\u001b[0m\n\u001b[1;32m-> 3070\u001b[1;33m             \u001b[0mJM_mupdf_show_errors\u001b[0m \u001b[1;33m=\u001b[0m \u001b[0mJM_mupdf_show_errors_old\u001b[0m\u001b[1;33m\u001b[0m\u001b[1;33m\u001b[0m\u001b[0m\n\u001b[0m",
      "\u001b[1;31mFileDataError\u001b[0m: Failed to open file 'temp.pdf'."
     ]
    }
   ],
   "source": [
    "links = ['https://www.nitt.edu/']\n",
    "visited = set()\n",
    "data = dict()\n",
    "while len(links)>0:\n",
    "    link = links.pop(0)\n",
    "    \n",
    "    if link in visited:\n",
    "        continue\n",
    "    \n",
    "    visited.add(link)\n",
    "    if link.endswith(\".pdf\"):\n",
    "        print(f\"Processing PDF: {link} -- Total Scraped: {len(data)}\")\n",
    "        pdf_text = extract_text_from_pdf(link)\n",
    "        data[link] = pdf_text\n",
    "        continue\n",
    "\n",
    "    # Fetch the page for the url\n",
    "    try:\n",
    "        response = requests.get(link, verify=False, timeout=5)\n",
    "        response.raise_for_status()\n",
    "        soup = BeautifulSoup(response.text, 'html.parser')\n",
    "        for url in soup.find_all('a', href=True):\n",
    "            next_url=urljoin(link, url['href'])\n",
    "            \n",
    "            if next_url in visited:\n",
    "                continue\n",
    "                \n",
    "            if 'www.nitt.edu' not in next_url:\n",
    "                visited.add(next_url)\n",
    "                continue\n",
    "                \n",
    "            if '+login' in next_url or '+search' in next_url or '+view' in next_url:\n",
    "                visited.add(next_url)\n",
    "                continue\n",
    "            \n",
    "            format_avoid=['jpg', 'peg', 'doc', 'ocx', 'png',\\\n",
    "                          '.dz', 'exe', 'php', 'zip', 'exe', 'rar']\n",
    "            if next_url[-3:].lower() in format_avoid:\n",
    "                visited.add(next_url)\n",
    "                continue\n",
    "            \n",
    "            if next_url not in links and next_url not in visited:\n",
    "                links.append(next_url)    \n",
    "    except Exception as e:\n",
    "        pass"
   ]
  },
  {
   "cell_type": "code",
   "execution_count": 16,
   "id": "14fee6b2-2601-4eff-b8be-754183e97547",
   "metadata": {},
   "outputs": [
    {
     "data": {
      "text/plain": [
       "(47, 2)"
      ]
     },
     "execution_count": 16,
     "metadata": {},
     "output_type": "execute_result"
    }
   ],
   "source": [
    "import pandas as pd\n",
    "df = pd.DataFrame(data={\n",
    "                        \"url\": data.keys(),\n",
    "                        \"text\": data.values()\n",
    "                        },\n",
    "                  columns=[\"url\", \"text\"])\n",
    "df.shape"
   ]
  },
  {
   "cell_type": "code",
   "execution_count": 18,
   "id": "8a9f88a9-e3c0-4312-b027-583cd74a222b",
   "metadata": {},
   "outputs": [
    {
     "data": {
      "text/html": [
       "<div>\n",
       "<style scoped>\n",
       "    .dataframe tbody tr th:only-of-type {\n",
       "        vertical-align: middle;\n",
       "    }\n",
       "\n",
       "    .dataframe tbody tr th {\n",
       "        vertical-align: top;\n",
       "    }\n",
       "\n",
       "    .dataframe thead th {\n",
       "        text-align: right;\n",
       "    }\n",
       "</style>\n",
       "<table border=\"1\" class=\"dataframe\">\n",
       "  <thead>\n",
       "    <tr style=\"text-align: right;\">\n",
       "      <th></th>\n",
       "      <th>url</th>\n",
       "      <th>text</th>\n",
       "    </tr>\n",
       "  </thead>\n",
       "  <tbody>\n",
       "    <tr>\n",
       "      <th>0</th>\n",
       "      <td>https://www.nitt.edu/home/GARC-Website-Mitacs-...</td>\n",
       "      <td>NATIONAL INSTITUTE OF TECHNOLOGY TIRUCHIRAPPAL...</td>\n",
       "    </tr>\n",
       "    <tr>\n",
       "      <th>1</th>\n",
       "      <td>https://www.nitt.edu/home/rc/ipr/IPR_NIPAM_202...</td>\n",
       "      <td>NATIONAL INSTITUTE OF TECHNOLOGY,\\nTIRUCHIRAPP...</td>\n",
       "    </tr>\n",
       "    <tr>\n",
       "      <th>2</th>\n",
       "      <td>https://www.nitt.edu/home/students/events/covi...</td>\n",
       "      <td>NATIONAL INSTITUTE OF TECHNOLOGY: TIRUCHIRAPPA...</td>\n",
       "    </tr>\n",
       "    <tr>\n",
       "      <th>3</th>\n",
       "      <td>https://www.nitt.edu/home/academics/pmrf/PMRF-...</td>\n",
       "      <td>\\nOffice of the Dean, Academic Programmes \\n ...</td>\n",
       "    </tr>\n",
       "    <tr>\n",
       "      <th>4</th>\n",
       "      <td>https://www.nitt.edu/home/other/jobs/MME_PA_TA...</td>\n",
       "      <td>DEPARTMENT OF INSTRUMENTATION AND CONTROL ENGI...</td>\n",
       "    </tr>\n",
       "  </tbody>\n",
       "</table>\n",
       "</div>"
      ],
      "text/plain": [
       "                                                 url  \\\n",
       "0  https://www.nitt.edu/home/GARC-Website-Mitacs-...   \n",
       "1  https://www.nitt.edu/home/rc/ipr/IPR_NIPAM_202...   \n",
       "2  https://www.nitt.edu/home/students/events/covi...   \n",
       "3  https://www.nitt.edu/home/academics/pmrf/PMRF-...   \n",
       "4  https://www.nitt.edu/home/other/jobs/MME_PA_TA...   \n",
       "\n",
       "                                                text  \n",
       "0  NATIONAL INSTITUTE OF TECHNOLOGY TIRUCHIRAPPAL...  \n",
       "1  NATIONAL INSTITUTE OF TECHNOLOGY,\\nTIRUCHIRAPP...  \n",
       "2  NATIONAL INSTITUTE OF TECHNOLOGY: TIRUCHIRAPPA...  \n",
       "3   \\nOffice of the Dean, Academic Programmes \\n ...  \n",
       "4  DEPARTMENT OF INSTRUMENTATION AND CONTROL ENGI...  "
      ]
     },
     "execution_count": 18,
     "metadata": {},
     "output_type": "execute_result"
    }
   ],
   "source": [
    "df.head()"
   ]
  },
  {
   "cell_type": "code",
   "execution_count": 19,
   "id": "598a8468-0892-4fdc-9f42-ad29394cafad",
   "metadata": {},
   "outputs": [],
   "source": [
    "df.to_csv(\"Scraped_Pdf_Files.csv\", index=False)"
   ]
  },
  {
   "cell_type": "markdown",
   "id": "83e00e48-a9b2-4ab8-814c-bbf693b4d7a1",
   "metadata": {},
   "source": [
    "# Evaluation of Results"
   ]
  },
  {
   "cell_type": "code",
   "execution_count": 1,
   "id": "e8cd1a02-b175-42a7-87a5-ca1bf4535400",
   "metadata": {},
   "outputs": [
    {
     "data": {
      "text/html": [
       "<div>\n",
       "<style scoped>\n",
       "    .dataframe tbody tr th:only-of-type {\n",
       "        vertical-align: middle;\n",
       "    }\n",
       "\n",
       "    .dataframe tbody tr th {\n",
       "        vertical-align: top;\n",
       "    }\n",
       "\n",
       "    .dataframe thead th {\n",
       "        text-align: right;\n",
       "    }\n",
       "</style>\n",
       "<table border=\"1\" class=\"dataframe\">\n",
       "  <thead>\n",
       "    <tr style=\"text-align: right;\">\n",
       "      <th></th>\n",
       "      <th>Query</th>\n",
       "      <th>Response</th>\n",
       "      <th>Is Valid</th>\n",
       "    </tr>\n",
       "  </thead>\n",
       "  <tbody>\n",
       "    <tr>\n",
       "      <th>0</th>\n",
       "      <td>I want to know what are some of the fest that ...</td>\n",
       "      <td>The college calendar has many fest happening a...</td>\n",
       "      <td>1</td>\n",
       "    </tr>\n",
       "    <tr>\n",
       "      <th>1</th>\n",
       "      <td>What are the three most famous technical clubs...</td>\n",
       "      <td>The three technical club in National Institute...</td>\n",
       "      <td>1</td>\n",
       "    </tr>\n",
       "    <tr>\n",
       "      <th>2</th>\n",
       "      <td>Can you tell me something about placements at ...</td>\n",
       "      <td>richi has a very good placement record. The av...</td>\n",
       "      <td>1</td>\n",
       "    </tr>\n",
       "    <tr>\n",
       "      <th>3</th>\n",
       "      <td>Can I get Music related opprtunities in college?</td>\n",
       "      <td>you can get a lot of opportunities in Music. Y...</td>\n",
       "      <td>1</td>\n",
       "    </tr>\n",
       "    <tr>\n",
       "      <th>4</th>\n",
       "      <td>What are the courses offered by NIT Trichy?</td>\n",
       "      <td>The National Institute of Technology, Tiruchir...</td>\n",
       "      <td>0</td>\n",
       "    </tr>\n",
       "  </tbody>\n",
       "</table>\n",
       "</div>"
      ],
      "text/plain": [
       "                                               Query  \\\n",
       "0  I want to know what are some of the fest that ...   \n",
       "1  What are the three most famous technical clubs...   \n",
       "2  Can you tell me something about placements at ...   \n",
       "3   Can I get Music related opprtunities in college?   \n",
       "4        What are the courses offered by NIT Trichy?   \n",
       "\n",
       "                                            Response  Is Valid  \n",
       "0  The college calendar has many fest happening a...         1  \n",
       "1  The three technical club in National Institute...         1  \n",
       "2  richi has a very good placement record. The av...         1  \n",
       "3  you can get a lot of opportunities in Music. Y...         1  \n",
       "4  The National Institute of Technology, Tiruchir...         0  "
      ]
     },
     "execution_count": 1,
     "metadata": {},
     "output_type": "execute_result"
    }
   ],
   "source": [
    "import pandas as pd\n",
    "import matplotlib.pyplot as plt\n",
    "%matplotlib inline\n",
    "\n",
    "import warnings\n",
    "warnings.filterwarnings('ignore')\n",
    "\n",
    "response = pd.read_csv('QueryResponse.csv')\n",
    "response.head()"
   ]
  },
  {
   "cell_type": "code",
   "execution_count": 2,
   "id": "a67cb7d6-d157-46b7-9ece-f9181510e016",
   "metadata": {},
   "outputs": [
    {
     "data": {
      "text/plain": [
       "(27, 3)"
      ]
     },
     "execution_count": 2,
     "metadata": {},
     "output_type": "execute_result"
    }
   ],
   "source": [
    "response.shape"
   ]
  },
  {
   "cell_type": "code",
   "execution_count": 3,
   "id": "7641b176-420e-45e8-a9b1-8410f5363c9e",
   "metadata": {},
   "outputs": [
    {
     "data": {
      "text/plain": [
       "Is Valid\n",
       "1    23\n",
       "0     4\n",
       "Name: count, dtype: int64"
      ]
     },
     "execution_count": 3,
     "metadata": {},
     "output_type": "execute_result"
    }
   ],
   "source": [
    "temp=response[\"Is Valid\"].value_counts()\n",
    "temp"
   ]
  },
  {
   "cell_type": "code",
   "execution_count": 4,
   "id": "3ae11cf5-3a51-49df-a9ce-9d9996cf1a87",
   "metadata": {},
   "outputs": [
    {
     "data": {
      "text/plain": [
       "array([23,  4], dtype=int64)"
      ]
     },
     "execution_count": 4,
     "metadata": {},
     "output_type": "execute_result"
    }
   ],
   "source": [
    "temp.values"
   ]
  },
  {
   "cell_type": "code",
   "execution_count": 5,
   "id": "0942856e-9a53-499e-9c65-f0ffa37a72d8",
   "metadata": {},
   "outputs": [
    {
     "data": {
      "image/png": "[encoded data removed]",
      "text/plain": [
       "<Figure size 500x500 with 1 Axes>"
      ]
     },
     "metadata": {},
     "output_type": "display_data"
    }
   ],
   "source": [
    "plt.figure(figsize=(5, 5))\n",
    "plt.pie(temp, labels=['1 -> Good', '0 -> Bad'], autopct='%1.1f%%')\n",
    "plt.show()"
   ]
  },
  {
   "cell_type": "code",
   "execution_count": 37,
   "id": "21918e49-873d-44a3-8bc3-29a05daaec18",
   "metadata": {},
   "outputs": [
    {
     "data": {
      "text/plain": [
       "<Figure size 640x480 with 0 Axes>"
      ]
     },
     "metadata": {},
     "output_type": "display_data"
    }
   ],
   "source": [
    "plt.savefig(\"pie_chart.png\")"
   ]
  },
  {
   "cell_type": "code",
   "execution_count": null,
   "id": "0115bce4-4150-4f82-a4f1-4c50bf12dee3",
   "metadata": {},
   "outputs": [],
   "source": []
  }
 ],
 "metadata": {
  "kernelspec": {
   "display_name": "Python 3 (ipykernel)",
   "language": "python",
   "name": "python3"
  },
  "language_info": {
   "codemirror_mode": {
    "name": "ipython",
    "version": 3
   },
   "file_extension": ".py",
   "mimetype": "text/x-python",
   "name": "python",
   "nbconvert_exporter": "python",
   "pygments_lexer": "ipython3",
   "version": "3.12.7"
  }
 },
 "nbformat": 4,
 "nbformat_minor": 5
}
